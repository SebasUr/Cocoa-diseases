{
 "cells": [
  {
   "cell_type": "code",
   "execution_count": 1,
   "id": "fa5a2588",
   "metadata": {},
   "outputs": [],
   "source": [
    "from huggingface_hub import snapshot_download\n",
    "import zipfile\n",
    "import os"
   ]
  },
  {
   "cell_type": "code",
   "execution_count": 8,
   "id": "5ca54786",
   "metadata": {},
   "outputs": [
    {
     "name": "stdout",
     "output_type": "stream",
     "text": [
      "Descargando dataset sauriber/cocoa_diseases en /home/saur/Documents/codeProjects/MoniliaProject/data...\n"
     ]
    },
    {
     "name": "stderr",
     "output_type": "stream",
     "text": [
      "/home/saur/anaconda3/lib/python3.12/site-packages/huggingface_hub/file_download.py:933: UserWarning: `local_dir_use_symlinks` parameter is deprecated and will be ignored. The process to download files to a local folder has been updated and do not rely on symlinks anymore. You only need to pass a destination folder as`local_dir`.\n",
      "For more details, check out https://huggingface.co/docs/huggingface_hub/main/en/guides/download#download-files-to-local-folder.\n",
      "  warnings.warn(\n"
     ]
    },
    {
     "data": {
      "application/vnd.jupyter.widget-view+json": {
       "model_id": "9a26f2a9adcb4b2293d8c79d42b8b483",
       "version_major": 2,
       "version_minor": 0
      },
      "text/plain": [
       "Fetching 2 files:   0%|          | 0/2 [00:00<?, ?it/s]"
      ]
     },
     "metadata": {},
     "output_type": "display_data"
    },
    {
     "data": {
      "application/vnd.jupyter.widget-view+json": {
       "model_id": "394d58ee80d347b89fdc7d02a8d98ba3",
       "version_major": 2,
       "version_minor": 0
      },
      "text/plain": [
       ".gitattributes:   0%|          | 0.00/2.46k [00:00<?, ?B/s]"
      ]
     },
     "metadata": {},
     "output_type": "display_data"
    },
    {
     "data": {
      "application/vnd.jupyter.widget-view+json": {
       "model_id": "017141c51e9041718cbbed9b4917ccab",
       "version_major": 2,
       "version_minor": 0
      },
      "text/plain": [
       "COCOA_DATASET_CLEAN.zip:   0%|          | 0.00/4.38G [00:00<?, ?B/s]"
      ]
     },
     "metadata": {},
     "output_type": "display_data"
    },
    {
     "name": "stdout",
     "output_type": "stream",
     "text": [
      "Descomprimiendo /home/saur/Documents/codeProjects/MoniliaProject/data/COCOA_DATASET_CLEAN.zip...\n",
      "¡Descarga y extracción completadas!\n"
     ]
    }
   ],
   "source": [
    "from huggingface_hub import snapshot_download\n",
    "import zipfile\n",
    "import os\n",
    "\n",
    "# Definir rutas manualmente\n",
    "current_dir = os.getcwd()  # El directorio donde estás ejecutando el notebook\n",
    "target_dir = os.path.abspath(os.path.join(current_dir, \"..\", \"data\"))\n",
    "\n",
    "# Asegurarte que exista el directorio de destino\n",
    "os.makedirs(target_dir, exist_ok=True)\n",
    "\n",
    "# Descargar el dataset\n",
    "repo_id = \"sauriber/cocoa_diseases\"\n",
    "print(f\"Descargando dataset {repo_id} en {target_dir}...\")\n",
    "\n",
    "snapshot_download(\n",
    "    repo_id=repo_id,\n",
    "    repo_type=\"dataset\",\n",
    "    local_dir=target_dir,\n",
    "    local_dir_use_symlinks=False  # Copiar archivos reales\n",
    ")\n",
    "\n",
    "# Buscar el archivo zip descargado\n",
    "zip_path = os.path.join(target_dir, \"COCOA_DATASET_CLEAN.zip\")\n",
    "if not os.path.isfile(zip_path):\n",
    "    raise FileNotFoundError(f\"No se encontró {zip_path} después de la descarga.\")\n",
    "\n",
    "# Descomprimir\n",
    "print(f\"Descomprimiendo {zip_path}...\")\n",
    "with zipfile.ZipFile(zip_path, 'r') as zip_ref:\n",
    "    zip_ref.extractall(target_dir)\n",
    "\n",
    "print(\"¡Descarga y extracción completadas!\")\n"
   ]
  },
  {
   "cell_type": "code",
   "execution_count": null,
   "id": "8f0b36eb",
   "metadata": {},
   "outputs": [],
   "source": []
  }
 ],
 "metadata": {
  "kernelspec": {
   "display_name": "base",
   "language": "python",
   "name": "python3"
  },
  "language_info": {
   "codemirror_mode": {
    "name": "ipython",
    "version": 3
   },
   "file_extension": ".py",
   "mimetype": "text/x-python",
   "name": "python",
   "nbconvert_exporter": "python",
   "pygments_lexer": "ipython3",
   "version": "3.12.7"
  }
 },
 "nbformat": 4,
 "nbformat_minor": 5
}
