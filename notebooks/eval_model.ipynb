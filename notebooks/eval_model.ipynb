{
 "cells": [
  {
   "cell_type": "code",
   "execution_count": 17,
   "id": "e28a89e4",
   "metadata": {},
   "outputs": [
    {
     "name": "stdout",
     "output_type": "stream",
     "text": [
      "Exists: True\n",
      "Ultralytics 8.3.116 🚀 Python-3.12.7 torch-2.7.0+cu126 CPU (AMD Ryzen 5 5600H with Radeon Graphics)\n"
     ]
    },
    {
     "name": "stdout",
     "output_type": "stream",
     "text": [
      "Model summary (fused): 72 layers, 3,006,428 parameters, 0 gradients, 8.1 GFLOPs\n",
      "Downloading https://ultralytics.com/assets/Arial.ttf to '/home/saur/.config/Ultralytics/Arial.ttf'...\n"
     ]
    },
    {
     "name": "stderr",
     "output_type": "stream",
     "text": [
      "100%|██████████| 755k/755k [00:00<00:00, 15.1MB/s]"
     ]
    },
    {
     "name": "stdout",
     "output_type": "stream",
     "text": [
      "\u001b[34m\u001b[1mval: \u001b[0mFast image access ✅ (ping: 0.0±0.0 ms, read: 653.0±372.5 MB/s, size: 784.9 KB)\n"
     ]
    },
    {
     "name": "stderr",
     "output_type": "stream",
     "text": [
      "\n",
      "\u001b[34m\u001b[1mval: \u001b[0mScanning /home/saur/Documents/codeProjects/MoniliaProject/data/COCOA_DATASET_CLEAN/valid/labels... 636 images, 0 backgrounds, 0 corrupt: 100%|██████████| 636/636 [00:00<00:00, 2822.79it/s]"
     ]
    },
    {
     "name": "stdout",
     "output_type": "stream",
     "text": [
      "\u001b[34m\u001b[1mval: \u001b[0mNew cache created: /home/saur/Documents/codeProjects/MoniliaProject/data/COCOA_DATASET_CLEAN/valid/labels.cache\n"
     ]
    },
    {
     "name": "stderr",
     "output_type": "stream",
     "text": [
      "\n",
      "/home/saur/anaconda3/lib/python3.12/site-packages/torch/cuda/__init__.py:789: UserWarning: Can't initialize NVML\n",
      "  warnings.warn(\"Can't initialize NVML\")\n",
      "/home/saur/anaconda3/lib/python3.12/site-packages/torch/utils/data/dataloader.py:665: UserWarning: 'pin_memory' argument is set as true but no accelerator is found, then device pinned memory won't be used.\n",
      "  warnings.warn(warn_msg)\n",
      "                 Class     Images  Instances      Box(P          R      mAP50  mAP50-95): 100%|██████████| 40/40 [01:10<00:00,  1.76s/it]\n"
     ]
    },
    {
     "name": "stdout",
     "output_type": "stream",
     "text": [
      "                   all        636        968      0.831      0.835      0.885      0.676\n",
      "              BLACKPOD        219        262      0.817      0.847      0.894      0.675\n",
      "             FROSTYPOD         76         93      0.783      0.796      0.861      0.647\n",
      "               HEALTHY        265        416      0.814      0.843      0.864      0.641\n",
      "                 MIRID        173        197      0.908      0.852      0.922      0.742\n",
      "Speed: 2.6ms preprocess, 77.3ms inference, 0.0ms loss, 0.3ms postprocess per image\n",
      "Results saved to \u001b[1mruns/detect/val12\u001b[0m\n",
      "Ultralytics 8.3.116 🚀 Python-3.12.7 torch-2.7.0+cu126 CPU (AMD Ryzen 5 5600H with Radeon Graphics)\n",
      "\u001b[34m\u001b[1mval: \u001b[0mFast image access ✅ (ping: 0.1±0.2 ms, read: 844.6±288.8 MB/s, size: 1902.7 KB)\n"
     ]
    },
    {
     "name": "stderr",
     "output_type": "stream",
     "text": [
      "\u001b[34m\u001b[1mval: \u001b[0mScanning /home/saur/Documents/codeProjects/MoniliaProject/data/COCOA_DATASET_CLEAN/test/labels... 369 images, 0 backgrounds, 0 corrupt: 100%|██████████| 369/369 [00:00<00:00, 2433.41it/s]"
     ]
    },
    {
     "name": "stdout",
     "output_type": "stream",
     "text": [
      "\u001b[34m\u001b[1mval: \u001b[0mNew cache created: /home/saur/Documents/codeProjects/MoniliaProject/data/COCOA_DATASET_CLEAN/test/labels.cache\n"
     ]
    },
    {
     "name": "stderr",
     "output_type": "stream",
     "text": [
      "\n",
      "/home/saur/anaconda3/lib/python3.12/site-packages/torch/cuda/__init__.py:789: UserWarning: Can't initialize NVML\n",
      "  warnings.warn(\"Can't initialize NVML\")\n",
      "/home/saur/anaconda3/lib/python3.12/site-packages/torch/utils/data/dataloader.py:665: UserWarning: 'pin_memory' argument is set as true but no accelerator is found, then device pinned memory won't be used.\n",
      "  warnings.warn(warn_msg)\n",
      "                 Class     Images  Instances      Box(P          R      mAP50  mAP50-95): 100%|██████████| 24/24 [00:44<00:00,  1.86s/it]\n"
     ]
    },
    {
     "name": "stdout",
     "output_type": "stream",
     "text": [
      "                   all        369        686      0.834      0.709      0.824      0.607\n",
      "              BLACKPOD        129        162       0.75      0.798      0.805      0.614\n",
      "             FROSTYPOD         46         54      0.899      0.537      0.771      0.545\n",
      "               HEALTHY        166        349      0.832      0.725      0.817      0.544\n",
      "                 MIRID        101        121      0.855      0.778      0.901      0.726\n",
      "Speed: 2.5ms preprocess, 81.0ms inference, 0.0ms loss, 0.8ms postprocess per image\n",
      "Results saved to \u001b[1mruns/detect/val13\u001b[0m\n"
     ]
    }
   ],
   "source": [
    "from ultralytics import YOLO\n",
    "import os\n",
    "# Cargar el modelo entrenado.\n",
    "model = YOLO(\"../runs/detect/cocoa_detect_v13/weights/best.pt\")\n",
    "yaml_path = \"/home/saur/Documents/codeProjects/MoniliaProject/data/COCOA_DATASET_CLEAN/data.yaml\"\n",
    "print(\"Exists:\", os.path.exists(yaml_path))\n",
    "\n",
    "results      = model.val(data=yaml_path, split=\"val\")\n",
    "test_results = model.val(data=yaml_path, split=\"test\")\n"
   ]
  }
 ],
 "metadata": {
  "kernelspec": {
   "display_name": "base",
   "language": "python",
   "name": "python3"
  },
  "language_info": {
   "codemirror_mode": {
    "name": "ipython",
    "version": 3
   },
   "file_extension": ".py",
   "mimetype": "text/x-python",
   "name": "python",
   "nbconvert_exporter": "python",
   "pygments_lexer": "ipython3",
   "version": "3.12.7"
  }
 },
 "nbformat": 4,
 "nbformat_minor": 5
}
