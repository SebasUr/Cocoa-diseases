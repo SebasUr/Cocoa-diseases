{
 "cells": [
  {
   "cell_type": "code",
   "execution_count": null,
   "id": "e28a89e4",
   "metadata": {},
   "outputs": [],
   "source": [
    "from ultralytics import YOLO\n",
    "\n",
    "# Cargar el modelo entrenado.\n",
    "model = YOLO(\"runs/detect/cocoa_detect_v1/weights/best.pt\")\n",
    "\n",
    "results      = model.val(data=DATA_YAML, split=\"val\")\n",
    "test_results = model.val(data=DATA_YAML, split=\"test\")\n"
   ]
  }
 ],
 "metadata": {
  "language_info": {
   "name": "python"
  }
 },
 "nbformat": 4,
 "nbformat_minor": 5
}
